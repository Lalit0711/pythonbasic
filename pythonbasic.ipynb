{
  "nbformat": 4,
  "nbformat_minor": 0,
  "metadata": {
    "colab": {
      "provenance": []
    },
    "kernelspec": {
      "name": "python3",
      "display_name": "Python 3"
    },
    "language_info": {
      "name": "python"
    }
  },
  "cells": [
    {
      "cell_type": "markdown",
      "source": [
        "# Python Basics\n"
      ],
      "metadata": {
        "id": "5vR6vfC2sty0"
      }
    },
    {
      "cell_type": "markdown",
      "source": [
        " Q1. What is Python, and why is it popular?\n",
        "  - Python is a high-level, general-purpose programming language known for its readability and versatility. Created by Guido van Rossum and first released in 1991, Python emphasizes code readability and simplicity, making it accessible to beginners and professionals alike.\n",
        "  \n",
        "  Why Python Is Popular:\n",
        "  \n",
        " - Readable and Maintainable Code: Python's syntax is clean and straightforward, using indentation to define code blocks, which enhances readability and reduces the cost of program maintenance.\n",
        "\n",
        " - Versatility: Python supports multiple programming paradigms, including procedural, object-oriented, and functional programming. It's used in various domains such as web development, data analysis, artificial intelligence, scientific computing, and more.\n",
        "\n",
        " - Extensive Standard Library and Ecosystem: Python boasts a comprehensive standard library and a vast ecosystem of third-party packages available through the Python Package Index (PyPI), facilitating rapid development.\n",
        "\n",
        " - Cross-Platform Compatibility: Python is available on major operating systems like Windows, macOS, and Linux, allowing developers to write code that runs seamlessly across platforms.\n",
        "\n",
        " Q2. What is an interpreter in Python?  \n",
        " - A Python interpreter is a program that reads and executes Python code line by line. It translates the high-level Python code into machine code that the computer can understand and execute. This process involves parsing the code, compiling it into bytecode, and then executing it using the Python Virtual Machine (PVM).\n",
        "\n",
        " Q3. What are pre-defined keywords in Python?\n",
        " - In Python, keywords are reserved words that have special meanings and are integral to the language's syntax. They cannot be used as identifiers (such as variable names, function names, or class names). These keywords define the structure and flow of a Python program.\n",
        "\n",
        "  There are 35 keywords in python-\n",
        "\n",
        " - False, None, True, and, as, assert, async, await, break, class, continue, def, del, elif, else, except, finally, for, from, global, if, import, in, is, lambda, nonlocal, not, or, pass, raise, return, try, while, with, yield\n",
        "\n",
        " Q4. Can keywords be used as variable names?\n",
        " - No, Python keywords cannot be used as variable names. Keywords are reserved words that have special meanings in the language's syntax and structure. it shows syntax error.\n",
        "\n",
        " Q5. What is mutability in Python?\n",
        " - Mutability refers to an object's ability to change its state or contents after it's been created. Understanding which objects are mutable or immutable is crucial, as it affects how data behaves, especially when passed to functions or shared across different parts of a program.Mutable objects can be modified after creation. for example- List,Dictionaraies,Set.\n",
        "\n",
        " Q6. Why are lists mutable, but tuples are immutable?\n",
        " - In Python, lists are mutable because they are designed to allow dynamic modification of their contents. This means you can add, remove, or change elements after the list has been created. This flexibility makes lists suitable for scenarios where the data may need to change over time.\n",
        "\n",
        " - On the other hand, tuples are immutable because they are intended to represent fixed collections of items. Once a tuple is created, its contents cannot be altered.\n",
        "\n",
        " Q7. What is the difference between “==” and “is” operators in Python?\n",
        " - the == and is operators are both used for comparisons but serve different purposes:\n",
        "\n",
        " **== operator:**  Checks if the values of two objects are equal.\n",
        " -  x = [1, 2, 3]\n",
        "\n",
        " - y = [1, 2, 3]\n",
        "\n",
        " - print(x == y)  # Output: True\n",
        "\n",
        " **is operator(identity):** Checks if two variables point to the same object in memory.\n",
        "\n",
        " - x = [1, 2, 3]\n",
        "\n",
        " - y = [1, 2, 3]\n",
        "  z = x\n",
        "-print(x is y)    # Output: False\n",
        "\n",
        " - print(x is z)   # Output: True\n",
        "  \n",
        "  Q8. What are logical operators in Python?\n",
        " - Logical operators in Python are used to combine or modify conditional statements, operating on Boolean values (True or False) and returning a Boolean result. There are three main logical operators: and, or, and not :-\n",
        "\n",
        " - **and:** Returns True if both operands are True; otherwise, it returns False.\n",
        " - **or:** Returns True if at least one of the operands is True; it returns False only if both operands are False\n",
        "- **not:** Returns the opposite Boolean value of the operand. If the operand is True, it returns False, and vice versa.\n",
        "\n",
        " Q9. What is type casting in Python?\n",
        " - In Python, type casting (or type conversion) refers to converting a value from one data type to another. This is essential when performing operations that require operands of the same type.\n",
        " Types of Type Casting :-\n",
        " - **Implicit Type Casting (Automatic)**:-\n",
        "Python automatically converts one data type to another in certain situations without the programmer's intervention. This usually happens when performing operations between different data types.\n",
        " - **Explicit Type Casting (Manual)**:-\n",
        "In explicit type casting, the programmer manually converts the data type using built-in functions. This is necessary when you want to control the data type conversion explicitly.\n",
        "\n",
        " Q10. What is the difference between implicit and explicit type casting?\n",
        "\n",
        "    **Implicit Type Casting:**\n",
        " - The Python interpreter automatically performs this during certain operations.\n",
        " - It usually happens when converting from a \"lower\" data type (e.g., integer) to a \"higher\" data type (e.g., float) to prevent data loss.\n",
        " - The user does not need to specify anything for this conversion.\n",
        "\n",
        " **Explicit Type Casting:**\n",
        " - The user manually converts the data type using built-in functions.\n",
        " - This is also known as type casting.\n",
        "- It is used when the user wants to convert to a specific data type, even if it might lead to data loss.\n",
        "\n",
        " Q11.  What is the purpose of conditional statements in Python?\n",
        "\n",
        " Conditional statements are fundamental constructs that control the flow of a program by executing specific blocks of code based on whether certain conditions are met. They enable decision-making within the code, allowing programs to respond differently to varying inputs or situations.\n",
        "\n",
        " Purpose of Conditional Statements :-\n",
        " - **Decision Making:** They allow the program to choose between different paths of execution based on evaluated conditions.\n",
        "\n",
        " - **Control Flow Management:** By evaluating conditions, they direct the program to execute certain blocks of code while skipping others, effectively managing the program's control flow.\n",
        "\n",
        " - **Dynamic Behavior:** They enable programs to react to user inputs, data values, or other runtime conditions, making the behavior of the program dynamic and responsive.\n",
        "\n",
        " - **Error Handling and Validation:** Conditional statements are often used to check for errors or validate data before proceeding with operations, ensuring robustness.\n",
        "\n",
        " Q12. How does the elif statement work?\n",
        " - The elif statement in Python allows for multiple conditions to be checked in sequence. It is short for \"else if\" and is used after an if statement to check an additional condition if the previous if condition is false. If the elif condition is true, its corresponding block of code is executed, and the rest of the elif and else blocks are skipped. If all if and elif conditions are false, the else block, if present, is executed.\n",
        "\n",
        " age = 20\n",
        "\n",
        " if age < 13:\n",
        "\n",
        "    print(\"Child\")\n",
        "\n",
        " elif age < 20:\n",
        "\n",
        "    print(\"Teenager\")\n",
        "\n",
        " elif age < 65:\n",
        "\n",
        "    print(\"Adult\")\n",
        "\n",
        " else:\n",
        "\n",
        "    print(\"Senior\")\n",
        "\n",
        " Output: Adult\n",
        " - In this example, the first if condition (age < 13) is false, so the code moves to the first elif condition (age < 20). This is also false, so it moves to the next elif condition (age < 65), which is true. Therefore, the code inside this elif block is executed, and \"Adult\" is printed. The remaining elif and else blocks are skipped.\n",
        "\n",
        " Q13. What is the difference between for and while loops?\n",
        " - The primary difference between for and while loops lies in when the number of iterations is known beforehand. for loops are best suited for situations where you know exactly how many times the loop will execute, often when iterating over a collection or sequence. while loops, on the other hand, are more flexible and used when the number of iterations is unknown and depends on a dynamic condition.\n",
        "\n",
        " Q14. Describe a scenario where a while loop is more suitable than a for loop.\n",
        " - In contrast to a 'for' loop, which is generally used when the number of iterations is known beforehand, a 'while' loop is ideal for situations where the number of iterations is not predetermined and depends on some dynamic condition.\n",
        "  \n",
        "  Imagine you're developing a program that requires the user to enter a positive integer. Since you can't predict how many attempts a user might need to provide valid input, a while loop is ideal for this situation.\n",
        "\n",
        "  while True:\n",
        "\n",
        "    user_input = input(\"Enter a positive integer: \")\n",
        "\n",
        "    if user_input.isdigit() and int(user_input) > 0:\n",
        "        print(\"Thank you!\")\n",
        "        break\n",
        "    else:\n",
        "        print(\"Invalid input. Please try again.\")\n"
      ],
      "metadata": {
        "id": "ZRHUKFnDttcc"
      }
    },
    {
      "cell_type": "markdown",
      "source": [
        "# Practical Questions"
      ],
      "metadata": {
        "id": "Fbs16n4aVjTi"
      }
    },
    {
      "cell_type": "code",
      "execution_count": 1,
      "metadata": {
        "id": "uHCpWOWstPHF",
        "colab": {
          "base_uri": "https://localhost:8080/"
        },
        "outputId": "4293ecea-7ada-4544-9945-77444cf1871c"
      },
      "outputs": [
        {
          "output_type": "stream",
          "name": "stdout",
          "text": [
            "Hello,world\n"
          ]
        }
      ],
      "source": [
        "# Q1.Write a Python program to print \"Hello, World!\"\n",
        "print(\"Hello,world\")"
      ]
    },
    {
      "cell_type": "markdown",
      "source": [],
      "metadata": {
        "id": "1rVxWgGCt8Y6"
      }
    },
    {
      "cell_type": "code",
      "source": [
        "# Q2.Write a Python program that displays your name and age\n",
        "name = \"Ankit\"\n",
        "age = 20\n",
        "print(f\"My name is {name} and I am {age} years old.\")\n"
      ],
      "metadata": {
        "colab": {
          "base_uri": "https://localhost:8080/"
        },
        "id": "UyQKqwmBtrnf",
        "outputId": "a34d6671-60b7-4363-cd00-c42a3fd88a11"
      },
      "execution_count": 3,
      "outputs": [
        {
          "output_type": "stream",
          "name": "stdout",
          "text": [
            "My name is Ankit and I am 20 years old.\n"
          ]
        }
      ]
    },
    {
      "cell_type": "code",
      "source": [
        "# Q3.Write code to print all the pre-defined keywords in Python using the keyword library\n",
        "\n",
        "import keyword\n",
        "print(keyword.kwlist)\n"
      ],
      "metadata": {
        "colab": {
          "base_uri": "https://localhost:8080/"
        },
        "id": "E_OADr7rX4g9",
        "outputId": "f4b9ab76-1c80-41d4-ce90-61b046ed2e24"
      },
      "execution_count": 4,
      "outputs": [
        {
          "output_type": "stream",
          "name": "stdout",
          "text": [
            "['False', 'None', 'True', 'and', 'as', 'assert', 'async', 'await', 'break', 'class', 'continue', 'def', 'del', 'elif', 'else', 'except', 'finally', 'for', 'from', 'global', 'if', 'import', 'in', 'is', 'lambda', 'nonlocal', 'not', 'or', 'pass', 'raise', 'return', 'try', 'while', 'with', 'yield']\n"
          ]
        }
      ]
    },
    {
      "cell_type": "code",
      "source": [
        "# Q4.Write a program that checks if a given word is a Python keyword.\n",
        "\n",
        "import keyword\n",
        "word = \"for\"\n",
        "if keyword.iskeyword(word):\n",
        "    print(f\"'{word}' is a Python keyword.\")\n",
        "else:\n",
        "    print(f\"'{word}' is not a Python keyword.\")\n"
      ],
      "metadata": {
        "colab": {
          "base_uri": "https://localhost:8080/"
        },
        "id": "5CF41U7YZEjG",
        "outputId": "8ba8b3c7-a0a5-4742-8e16-ea316a8cb87c"
      },
      "execution_count": 7,
      "outputs": [
        {
          "output_type": "stream",
          "name": "stdout",
          "text": [
            "'for' is a Python keyword.\n"
          ]
        }
      ]
    },
    {
      "cell_type": "code",
      "source": [
        "# Q5.Create a list and tuple in Python, and demonstrate how attempting to change an element works differently for each.\n",
        "\n",
        "my_list = [10, 20, 30]\n",
        "my_tuple = (10, 20, 30)\n",
        "\n",
        "my_list[1] = 99\n",
        "print(\"Modified list:\", my_list)\n",
        "\n",
        "# modify the tuple\n",
        "try:\n",
        "    my_tuple[1] = 99\n",
        "except TypeError as e:\n",
        "    print(\"Error:\", e)\n"
      ],
      "metadata": {
        "colab": {
          "base_uri": "https://localhost:8080/"
        },
        "id": "UsrHG5G2Z88O",
        "outputId": "25adb83f-c841-48bc-8686-f15ac69ec2dd"
      },
      "execution_count": 8,
      "outputs": [
        {
          "output_type": "stream",
          "name": "stdout",
          "text": [
            "Modified list: [10, 99, 30]\n",
            "Error: 'tuple' object does not support item assignment\n"
          ]
        }
      ]
    },
    {
      "cell_type": "code",
      "source": [
        "# Q6. Write a function to demonstrate the behavior of mutable and immutable arguments.\n",
        "\n",
        "def modify_values(immutable_arg, mutable_arg):\n",
        "    # Attempt to modify the immutable argument\n",
        "    try:\n",
        "        immutable_arg[0] = 'Modified'\n",
        "    except TypeError:\n",
        "        print(\"Cannot modify immutable argument\")\n",
        "\n",
        "    # Modify the mutable argument\n",
        "    mutable_arg.append('Added')\n",
        "\n",
        "# Immutable argument: tuple (cannot be modified)\n",
        "immutable = ('Original',)\n",
        "\n",
        "# Mutable argument: list (can be modified)\n",
        "mutable = ['Original']\n",
        "\n",
        "modify_values(immutable, mutable)\n",
        "\n",
        "print(\"Immutable after function call:\", immutable)\n",
        "print(\"Mutable after function call:\", mutable)\n"
      ],
      "metadata": {
        "colab": {
          "base_uri": "https://localhost:8080/"
        },
        "id": "quDOhOqEcNi3",
        "outputId": "11cfa224-5471-43f7-9a10-52a5866a087b"
      },
      "execution_count": 9,
      "outputs": [
        {
          "output_type": "stream",
          "name": "stdout",
          "text": [
            "Cannot modify immutable argument\n",
            "Immutable after function call: ('Original',)\n",
            "Mutable after function call: ['Original', 'Added']\n"
          ]
        }
      ]
    },
    {
      "cell_type": "code",
      "source": [
        "# Q7. Write a program that performs basic arithmetic operations on two user-input numbers.\n",
        "\n",
        "num1 = int(input(\"Enter the first number: \"))\n",
        "num2 = int(input(\"Enter the second number: \"))\n",
        "\n",
        "# Performing arithmetic operations\n",
        "addition = num1 + num2\n",
        "subtraction = num1 - num2\n",
        "multiplication = num1 * num2\n",
        "division = num1 / num2 if num2 != 0 else \"undefined (division by zero)\"\n",
        "modulus = num1 % num2\n",
        "exponentiation = num1 ** num2\n",
        "floor_division = num1 // num2 if num2 != 0 else \"undefined (division by zero)\"\n",
        "\n",
        "# Displaying the results\n",
        "print(f\"\\nResults:\")\n",
        "print(f\"Addition: {num1} + {num2} = {addition}\")\n",
        "print(f\"Subtraction: {num1} - {num2} = {subtraction}\")\n",
        "print(f\"Multiplication: {num1} * {num2} = {multiplication}\")\n",
        "print(f\"Division: {num1} / {num2} = {division}\")\n",
        "print(f\"Modulus: {num1} % {num2} = {modulus}\")\n",
        "print(f\"Exponentiation: {num1} ** {num2} = {exponentiation}\")\n",
        "print(f\"Floor Division: {num1} // {num2} = {floor_division}\")\n"
      ],
      "metadata": {
        "colab": {
          "base_uri": "https://localhost:8080/"
        },
        "id": "_sQQ71xVc-WL",
        "outputId": "051dd598-693f-4016-fd8b-c83a814afd41"
      },
      "execution_count": 10,
      "outputs": [
        {
          "output_type": "stream",
          "name": "stdout",
          "text": [
            "Enter the first number: 15\n",
            "Enter the second number: 16\n",
            "\n",
            "Results:\n",
            "Addition: 15 + 16 = 31\n",
            "Subtraction: 15 - 16 = -1\n",
            "Multiplication: 15 * 16 = 240\n",
            "Division: 15 / 16 = 0.9375\n",
            "Modulus: 15 % 16 = 15\n",
            "Exponentiation: 15 ** 16 = 6568408355712890625\n",
            "Floor Division: 15 // 16 = 0\n"
          ]
        }
      ]
    },
    {
      "cell_type": "code",
      "source": [
        "# Q8. Write a program to demonstrate the use of logical operators.\n",
        "\n",
        "x = 10\n",
        "y = 20\n",
        "\n",
        "# Using 'and' operator\n",
        "if x > 9 and y > 15:\n",
        "    print(\"Both conditions are true.\")\n",
        "\n",
        "# Using 'or' operator\n",
        "if x > 5 or y < 15:\n",
        "    print(\"At least one condition is true.\")\n",
        "\n",
        "# Using 'not' operator\n",
        "if not (x > 5 and y < 15):\n",
        "    print(\"The condition is false.\")\n"
      ],
      "metadata": {
        "colab": {
          "base_uri": "https://localhost:8080/"
        },
        "id": "O6zrJMCweeEZ",
        "outputId": "34f37b9b-34c9-41b9-e515-a3bed37b0061"
      },
      "execution_count": 13,
      "outputs": [
        {
          "output_type": "stream",
          "name": "stdout",
          "text": [
            "Both conditions are true.\n",
            "At least one condition is true.\n",
            "The condition is false.\n"
          ]
        }
      ]
    },
    {
      "cell_type": "code",
      "source": [
        "# Q9. Write a Python program to convert user input from string to integer, float, and boolean types.\n",
        "\n",
        "\n",
        "user_input = input(\"Enter a value: \")\n",
        "\n",
        "# Converting to integer\n",
        "try:\n",
        "    int_value = int(user_input)\n",
        "    print(f\"Converted to integer: {int_value}\")\n",
        "except ValueError:\n",
        "    print(\"Cannot convert to integer.\")\n",
        "\n",
        "# Converting to float\n",
        "try:\n",
        "    float_value = float(user_input)\n",
        "    print(f\"Converted to float: {float_value}\")\n",
        "except ValueError:\n",
        "    print(\"Cannot convert to float.\")\n",
        "\n",
        "# Converting to boolean\n",
        "bool_value = bool(user_input)\n",
        "print(f\"Converted to boolean: {bool_value}\")\n"
      ],
      "metadata": {
        "colab": {
          "base_uri": "https://localhost:8080/"
        },
        "id": "ol-DV-rWfmso",
        "outputId": "06f8657c-5e66-41b1-e41a-5b1ea3c35b03"
      },
      "execution_count": 16,
      "outputs": [
        {
          "output_type": "stream",
          "name": "stdout",
          "text": [
            "Enter a value: 1237\n",
            "Converted to integer: 1237\n",
            "Converted to float: 1237.0\n",
            "Converted to boolean: True\n"
          ]
        }
      ]
    },
    {
      "cell_type": "code",
      "source": [
        "# Q10. Write code to demonstrate type casting with list elements.\n",
        "\n",
        "str_list = [\"1\", \"2.5\", \"True\", \"False\", \"hello\"]\n",
        "\n",
        "int_list = [int(x) for x in str_list if x.isdigit()]\n",
        "float_list = [float(x) for x in str_list if x.replace('.', '', 1).isdigit()]\n",
        "bool_list = [x.lower() == 'true' for x in str_list]\n",
        "\n",
        "print(\"Original List:\", str_list)\n",
        "print(\"Converted to Integers:\", int_list)\n",
        "print(\"Converted to Floats:\", float_list)\n",
        "print(\"Converted to Booleans:\", bool_list)\n"
      ],
      "metadata": {
        "colab": {
          "base_uri": "https://localhost:8080/"
        },
        "id": "_yT45spUhkGY",
        "outputId": "f8c05e3e-f710-438f-888c-e8df2a0339c0"
      },
      "execution_count": 17,
      "outputs": [
        {
          "output_type": "stream",
          "name": "stdout",
          "text": [
            "Original List: ['1', '2.5', 'True', 'False', 'hello']\n",
            "Converted to Integers: [1]\n",
            "Converted to Floats: [1.0, 2.5]\n",
            "Converted to Booleans: [False, False, True, False, False]\n"
          ]
        }
      ]
    },
    {
      "cell_type": "code",
      "source": [
        "# Q11. Write a program that checks if a number is positive, negative, or zero.\n",
        "\n",
        "num = float(input(\"Enter a number: \"))\n",
        "\n",
        "if num > 0:\n",
        "    print(\"Positive\")\n",
        "elif num < 0:\n",
        "    print(\"Negative\")\n",
        "else:\n",
        "    print(\"Zero\")\n"
      ],
      "metadata": {
        "colab": {
          "base_uri": "https://localhost:8080/"
        },
        "id": "oiFu2et_i0oT",
        "outputId": "87b0cd90-3868-4d02-dfee-d3d39490ff3c"
      },
      "execution_count": 20,
      "outputs": [
        {
          "output_type": "stream",
          "name": "stdout",
          "text": [
            "Enter a number: 0\n",
            "Zero\n"
          ]
        }
      ]
    },
    {
      "cell_type": "code",
      "source": [
        "# Q12. Write a for loop to print numbers from 1 to 10.\n",
        "\n",
        "for i in range(1, 11):\n",
        "    print(i)\n"
      ],
      "metadata": {
        "colab": {
          "base_uri": "https://localhost:8080/"
        },
        "id": "bSy6hnQ3jtTo",
        "outputId": "08aba18c-b38b-4b1c-d9e1-f0f69d91bc14"
      },
      "execution_count": 21,
      "outputs": [
        {
          "output_type": "stream",
          "name": "stdout",
          "text": [
            "1\n",
            "2\n",
            "3\n",
            "4\n",
            "5\n",
            "6\n",
            "7\n",
            "8\n",
            "9\n",
            "10\n"
          ]
        }
      ]
    },
    {
      "cell_type": "code",
      "source": [
        "# Q13. Write a Python program to find the sum of all even numbers between 1 and 50\n",
        "\n",
        "total = 0\n",
        "\n",
        "for number in range(1, 51):\n",
        "\n",
        "    if number % 2 == 0:\n",
        "        total += number\n",
        "\n",
        "print(\"Sum of even numbers from 1 to 50 is:\", total)\n"
      ],
      "metadata": {
        "colab": {
          "base_uri": "https://localhost:8080/"
        },
        "id": "lEKztym_kVMI",
        "outputId": "35bbacbb-c76f-4adb-dd63-6e2c78c7b3c7"
      },
      "execution_count": 22,
      "outputs": [
        {
          "output_type": "stream",
          "name": "stdout",
          "text": [
            "Sum of even numbers from 1 to 50 is: 650\n"
          ]
        }
      ]
    },
    {
      "cell_type": "code",
      "source": [
        "# Q14. . Write a program to reverse a string using a while loop.\n",
        "\n",
        "text = \"Hello, World!\"\n",
        "\n",
        "reversed_text = \"\"\n",
        "\n",
        "index = len(text) - 1\n",
        "\n",
        "while index >= 0:\n",
        "    reversed_text += text[index]\n",
        "    index -= 1\n",
        "\n",
        "print(\"Reversed string:\", reversed_text)\n"
      ],
      "metadata": {
        "colab": {
          "base_uri": "https://localhost:8080/"
        },
        "id": "RDulbE-tlkav",
        "outputId": "1c810d1c-d68a-4d07-e488-71e9b70916bd"
      },
      "execution_count": 23,
      "outputs": [
        {
          "output_type": "stream",
          "name": "stdout",
          "text": [
            "Reversed string: !dlroW ,olleH\n"
          ]
        }
      ]
    },
    {
      "cell_type": "code",
      "source": [
        "# Q15.  Write a Python program to calculate the factorial of a number provided by the user using a while loop.\n",
        "\n",
        "num = int(input(\"Enter a non-negative integer: \"))\n",
        "\n",
        "factorial = 1\n",
        "\n",
        "if num < 0:\n",
        "    print(\"Factorial is not defined for negative numbers.\")\n",
        "else:\n",
        "\n",
        "    i = 1\n",
        "\n",
        "    while i <= num:\n",
        "        factorial *= i\n",
        "        i += 1\n",
        "    print(f\"The factorial of {num} is {factorial}\")\n"
      ],
      "metadata": {
        "colab": {
          "base_uri": "https://localhost:8080/"
        },
        "id": "3I1GM80am77L",
        "outputId": "2094c64c-7626-4e37-80d1-6e7cfad33166"
      },
      "execution_count": 26,
      "outputs": [
        {
          "output_type": "stream",
          "name": "stdout",
          "text": [
            "Enter a non-negative integer: 5\n",
            "The factorial of 5 is 120\n"
          ]
        }
      ]
    }
  ]
}